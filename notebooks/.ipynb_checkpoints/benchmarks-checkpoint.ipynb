{
 "cells": [
  {
   "cell_type": "code",
   "execution_count": 14,
   "id": "8e684cf2-c6b8-494c-933a-21249c342e17",
   "metadata": {},
   "outputs": [],
   "source": [
    "# Quick Function Benchmarks"
   ]
  },
  {
   "cell_type": "code",
   "execution_count": null,
   "id": "b9f13919-363b-4295-b529-d07ac19ba0e7",
   "metadata": {},
   "outputs": [],
   "source": []
  },
  {
   "cell_type": "code",
   "execution_count": 2,
   "id": "241c2644-3a4b-4139-9729-427187c0eff8",
   "metadata": {},
   "outputs": [],
   "source": [
    "import re"
   ]
  },
  {
   "cell_type": "code",
   "execution_count": 6,
   "id": "075a3bb5-9ed3-4c67-ac3c-6913f9cbe4b9",
   "metadata": {},
   "outputs": [],
   "source": [
    "def _encode_filename_nochain(s):\n",
    "    s = s.replace(\"\\r\", \"%0D\")\n",
    "    s = s.replace(\"\\n\", \"%0A\")\n",
    "    return s\n",
    "\n",
    "\n",
    "def _decode_filename_regex(s):\n",
    "    s = re.sub(r\"%0D\", \"\\r\", s, re.IGNORECASE)\n",
    "    s = re.sub(r\"%0A\", \"\\n\", s, re.IGNORECASE)\n",
    "    return s\n"
   ]
  },
  {
   "cell_type": "code",
   "execution_count": 7,
   "id": "cff9c79c-e22a-4e34-adc9-277a2787b042",
   "metadata": {},
   "outputs": [],
   "source": [
    "def _encode_filename_chain(s):\n",
    "    return s.replace(\"\\r\", \"%0D\").replace(\"\\n\", \"%0A\")\n",
    "\n",
    "def _decode_filename_replace(s):\n",
    "    return s.replace(\"%0D\", \"\\r\").replace(\"%0A\", \"\\n\").replace(\"%0d\", \"\\r\").replace(\"%0a\", \"\\n\")"
   ]
  },
  {
   "cell_type": "code",
   "execution_count": 8,
   "id": "dfe3c39e-0494-4ddf-95a2-2297f7d8b51f",
   "metadata": {},
   "outputs": [
    {
     "name": "stdout",
     "output_type": "stream",
     "text": [
      "84.7 ns ± 0.52 ns per loop (mean ± std. dev. of 7 runs, 10,000,000 loops each)\n"
     ]
    }
   ],
   "source": [
    "%%timeit \n",
    "_encode_filename_nochain('some_test_filename_98239018.txt')"
   ]
  },
  {
   "cell_type": "code",
   "execution_count": 9,
   "id": "2ac27d2b-4c2c-4b41-8dcf-480339797ec3",
   "metadata": {},
   "outputs": [
    {
     "name": "stdout",
     "output_type": "stream",
     "text": [
      "79.4 ns ± 0.613 ns per loop (mean ± std. dev. of 7 runs, 10,000,000 loops each)\n"
     ]
    }
   ],
   "source": [
    "%%timeit \n",
    "_encode_filename_chain('some_test_filename_98239018.txt')"
   ]
  },
  {
   "cell_type": "code",
   "execution_count": 10,
   "id": "cbc87f0a-25ae-49e3-b217-afcd2d2b423a",
   "metadata": {},
   "outputs": [
    {
     "name": "stdout",
     "output_type": "stream",
     "text": [
      "513 ns ± 17 ns per loop (mean ± std. dev. of 7 runs, 1,000,000 loops each)\n"
     ]
    }
   ],
   "source": [
    "%%timeit \n",
    "_decode_filename_regex('some_test_filename_98239018.txt')"
   ]
  },
  {
   "cell_type": "code",
   "execution_count": 13,
   "id": "120ef084-4878-4502-b91d-174c424fb930",
   "metadata": {},
   "outputs": [
    {
     "name": "stdout",
     "output_type": "stream",
     "text": [
      "128 ns ± 0.353 ns per loop (mean ± std. dev. of 7 runs, 10,000,000 loops each)\n"
     ]
    }
   ],
   "source": [
    "%%timeit\n",
    "_decode_filename_replace('some_test_filename_98239018.txt')"
   ]
  },
  {
   "cell_type": "code",
   "execution_count": null,
   "id": "98ef7109-22aa-4d3c-aaa0-44221495ac95",
   "metadata": {},
   "outputs": [],
   "source": [
    "## "
   ]
  }
 ],
 "metadata": {
  "kernelspec": {
   "display_name": "Python 3 (ipykernel)",
   "language": "python",
   "name": "python3"
  },
  "language_info": {
   "codemirror_mode": {
    "name": "ipython",
    "version": 3
   },
   "file_extension": ".py",
   "mimetype": "text/x-python",
   "name": "python",
   "nbconvert_exporter": "python",
   "pygments_lexer": "ipython3",
   "version": "3.11.4"
  }
 },
 "nbformat": 4,
 "nbformat_minor": 5
}
